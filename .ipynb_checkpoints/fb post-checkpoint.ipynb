{
 "cells": [
  {
   "cell_type": "code",
   "execution_count": 39,
   "metadata": {},
   "outputs": [],
   "source": [
    "from selenium import webdriver"
   ]
  },
  {
   "cell_type": "code",
   "execution_count": 37,
   "metadata": {},
   "outputs": [],
   "source": [
    "for i in range(101):\n",
    "    a = str(47*i)\n",
    "    b = \"47 x \" + str(i) + \" = \" + a \n",
    "    k = str(b)\n",
    "    pprint(k)"
   ]
  },
  {
   "cell_type": "code",
   "execution_count": 45,
   "metadata": {},
   "outputs": [],
   "source": [
    "browser = webdriver.Firefox()\n",
    "## logging in\n",
    "browser.get('http://facebook.com')\n",
    "elem1 = browser.find_element_by_id('email')\n",
    "elem1.send_keys(\"jsskrishnakanth@gmail.com\")\n",
    "\n",
    "elem2 = browser.find_element_by_id('pass')\n",
    "elem2.send_keys(\"haasan@moolah\")\n",
    "\n",
    "cli = browser.find_element_by_css_selector(\"input[value='Log In'][type='Submit']\")\n",
    "cli.click()\n",
    "\n",
    "elem3 = browser.find_element_by_name(\"xhpc_message\")\n",
    "elem3.send_keys(\"This is an automated post\")\n",
    "\n",
    "elem3.submit()\n",
    "#cli1 = browser.find_element_by_class_name(\"Post\")\n",
    "#cli1.click()\n"
   ]
  },
  {
   "cell_type": "code",
   "execution_count": 64,
   "metadata": {},
   "outputs": [
    {
     "name": "stdout",
     "output_type": "stream",
     "text": [
      "Automated post no: 1\n",
      "Automated post no: 2\n",
      "Automated post no: 3\n",
      "Automated post no: 4\n"
     ]
    }
   ],
   "source": [
    "for i in range(1,5):\n",
    "    print(\"Automated post no: %s\" % i)"
   ]
  },
  {
   "cell_type": "code",
   "execution_count": 46,
   "metadata": {},
   "outputs": [
    {
     "data": {
      "text/plain": [
       "'/home/naiph/ASBP'"
      ]
     },
     "execution_count": 46,
     "metadata": {},
     "output_type": "execute_result"
    }
   ],
   "source": [
    "import os\n",
    "os.getcwd()"
   ]
  },
  {
   "cell_type": "code",
   "execution_count": null,
   "metadata": {},
   "outputs": [],
   "source": []
  }
 ],
 "metadata": {
  "kernelspec": {
   "display_name": "Python 3",
   "language": "python",
   "name": "python3"
  },
  "language_info": {
   "codemirror_mode": {
    "name": "ipython",
    "version": 3
   },
   "file_extension": ".py",
   "mimetype": "text/x-python",
   "name": "python",
   "nbconvert_exporter": "python",
   "pygments_lexer": "ipython3",
   "version": "3.7.3"
  }
 },
 "nbformat": 4,
 "nbformat_minor": 2
}
