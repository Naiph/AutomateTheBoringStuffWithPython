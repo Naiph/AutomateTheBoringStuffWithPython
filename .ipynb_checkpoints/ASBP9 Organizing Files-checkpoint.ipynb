{
 "cells": [
  {
   "cell_type": "code",
   "execution_count": 3,
   "metadata": {},
   "outputs": [],
   "source": [
    "import shutil, os"
   ]
  },
  {
   "cell_type": "code",
   "execution_count": 6,
   "metadata": {},
   "outputs": [
    {
     "data": {
      "text/plain": [
       "'/home/naiph/ASBP'"
      ]
     },
     "execution_count": 6,
     "metadata": {},
     "output_type": "execute_result"
    }
   ],
   "source": [
    "os.getcwd()"
   ]
  },
  {
   "cell_type": "code",
   "execution_count": 8,
   "metadata": {},
   "outputs": [],
   "source": [
    "os.chdir('/home')"
   ]
  },
  {
   "cell_type": "code",
   "execution_count": 9,
   "metadata": {},
   "outputs": [
    {
     "data": {
      "text/plain": [
       "'/home'"
      ]
     },
     "execution_count": 9,
     "metadata": {},
     "output_type": "execute_result"
    }
   ],
   "source": [
    "os.getcwd()"
   ]
  },
  {
   "cell_type": "code",
   "execution_count": 10,
   "metadata": {},
   "outputs": [
    {
     "data": {
      "text/plain": [
       "['naiph', 'linuxbrew']"
      ]
     },
     "execution_count": 10,
     "metadata": {},
     "output_type": "execute_result"
    }
   ],
   "source": [
    "os.listdir()"
   ]
  },
  {
   "cell_type": "code",
   "execution_count": 14,
   "metadata": {},
   "outputs": [],
   "source": [
    "os.chdir('/home/naiph')"
   ]
  },
  {
   "cell_type": "code",
   "execution_count": 15,
   "metadata": {},
   "outputs": [
    {
     "data": {
      "text/plain": [
       "'/home/naiph/Documents/logo.jpg'"
      ]
     },
     "execution_count": 15,
     "metadata": {},
     "output_type": "execute_result"
    }
   ],
   "source": [
    "shutil.copy('/home/naiph/Desktop/logo.jpg','/home/naiph/Documents/')\n",
    "# copytree() to copy a folder"
   ]
  },
  {
   "cell_type": "code",
   "execution_count": 17,
   "metadata": {},
   "outputs": [
    {
     "data": {
      "text/plain": [
       "'/home/naiph/Downloads/logo.jpg'"
      ]
     },
     "execution_count": 17,
     "metadata": {},
     "output_type": "execute_result"
    }
   ],
   "source": [
    "shutil.move('/home/naiph/Desktop/logo.jpg','/home/naiph/Downloads/')"
   ]
  },
  {
   "cell_type": "code",
   "execution_count": 19,
   "metadata": {},
   "outputs": [
    {
     "data": {
      "text/plain": [
       "'/home/naiph'"
      ]
     },
     "execution_count": 19,
     "metadata": {},
     "output_type": "execute_result"
    }
   ],
   "source": [
    "os.getcwd()"
   ]
  },
  {
   "cell_type": "code",
   "execution_count": 20,
   "metadata": {},
   "outputs": [
    {
     "data": {
      "text/plain": [
       "['Quantumcirq.ipynb',\n",
       " 'Test',\n",
       " 'Desktop',\n",
       " 'Music',\n",
       " '.nuget',\n",
       " '.gnupg',\n",
       " '.oracle_jre_usage',\n",
       " 'Arduino',\n",
       " '.qiskit',\n",
       " 'nltk_data',\n",
       " '.ipynb_checkpoints',\n",
       " '.dbus',\n",
       " '.templateengine',\n",
       " 'anaconda3',\n",
       " 'Junk',\n",
       " '.sudo_as_admin_successful',\n",
       " 'Qiskit test.ipynb',\n",
       " 'Quantum',\n",
       " 'Automate the boring stuff with python.ipynb',\n",
       " '.dotnet',\n",
       " '.bash_logout',\n",
       " '.pki',\n",
       " 'QuantumGates.ipynb',\n",
       " 'Public',\n",
       " '.jupyter',\n",
       " '.ICEauthority',\n",
       " '.cinnamon',\n",
       " 'Templates',\n",
       " 'snap',\n",
       " 'random.ipynb',\n",
       " 'Videos',\n",
       " 'packages-microsoft-prod.deb',\n",
       " 'SA.ipynb',\n",
       " '.icons',\n",
       " 'myApp',\n",
       " 'Pictures',\n",
       " '.wget-hsts',\n",
       " '.mozilla',\n",
       " '.profile',\n",
       " 'Bernstein-Vazirani Algorithm.ipynb',\n",
       " '.gnome',\n",
       " '.condarc',\n",
       " 'Untitled.ipynb',\n",
       " '.arduino15',\n",
       " 'Untitled1.ipynb',\n",
       " '.vscode',\n",
       " 'examples.desktop',\n",
       " 'QuantumTeleportation.ipynb',\n",
       " '.w3m',\n",
       " 'Documents',\n",
       " '.bash_history',\n",
       " 'ASBP',\n",
       " 'iris.ipynb',\n",
       " '.apport-ignore.xml',\n",
       " '.thunderbird',\n",
       " '.java',\n",
       " '.conda',\n",
       " 'textblob.ipynb',\n",
       " 'QuantumHelloWorld.ipynb',\n",
       " 'Test.ipynb',\n",
       " 'Qiskit',\n",
       " '.git',\n",
       " '.themes',\n",
       " '.gphoto',\n",
       " 'Measurement error mitigation.ipynb',\n",
       " '.ipython',\n",
       " '.gitconfig',\n",
       " '.cache',\n",
       " '.local',\n",
       " '.ssh',\n",
       " 'Downloads',\n",
       " '.bashrc',\n",
       " '.anaconda',\n",
       " '.config']"
      ]
     },
     "execution_count": 20,
     "metadata": {},
     "output_type": "execute_result"
    }
   ],
   "source": [
    "os.listdir()"
   ]
  },
  {
   "cell_type": "code",
   "execution_count": 23,
   "metadata": {},
   "outputs": [
    {
     "data": {
      "text/plain": [
       "['logo.jpg',\n",
       " 'kr-vs-kp.names',\n",
       " 'Indian Nod - Explained.mp4',\n",
       " 'bigm.txt',\n",
       " 'Binary_search_parallel.docx',\n",
       " 'nlpexpt (1).slides (1).txt',\n",
       " 'Black and White World Day Against Child Labor Poster (1).pdf',\n",
       " 'SinghalAmrit_Report_.pdf',\n",
       " 'A1&A2_Output.docx',\n",
       " 'Matrix_matrix_multiply_parallel (1).docx',\n",
       " '169.pdf',\n",
       " 'reportRSSA.docx',\n",
       " '1906.05433.pdf',\n",
       " 'IMG_7496.CR2',\n",
       " 'WhatsApp Image 2019-09-05 at 18.13.15.jpeg',\n",
       " 'synopsis.docx',\n",
       " 'WhatsApp Video 2019-10-02 at 14.41.46.mp4',\n",
       " '1412.3646.pdf',\n",
       " 'Title BGM - Agent Sai Srinivasa Athreya - Mark K Robin - Naveen Polishetty - Swaroop RSJ.mp3',\n",
       " 'elegibility certificate format.docx',\n",
       " 'WhatsApp Image 2019-09-05 at 18.05.31.jpeg',\n",
       " 'Untitled document.pdf',\n",
       " '1307.0471v2.pdf',\n",
       " 'WhatsApp Image 2019-09-05 at 19.15.32.jpeg',\n",
       " 'rapidminer-studio-9.4.1.zip',\n",
       " 'bird.pl',\n",
       " 'Receipt for AlgoAsylum.pdf',\n",
       " 'WhatsApp Image 2019-09-05 at 18.37.08.jpeg',\n",
       " 'Untitled Diagram.jpg',\n",
       " 'FinalFinalCV (1).pdf',\n",
       " 'bird (1).pl',\n",
       " 'Equity Transaction Details for MOTHERSON SUMI SYSTEMS LTD.xls',\n",
       " 'f82_92f1e348c79e77ca8b405e9f971c7d8b_startercode.zip',\n",
       " 'WhatsApp Image 2019-09-25 at 11.36.08.jpeg',\n",
       " 'Family.Guy.S16E05.HDTV.x264-SVA.srt',\n",
       " 'Black and White World Day Against Child Labor Poster.pdf',\n",
       " 'New Doc 2019-10-18 12.54.27.pdf',\n",
       " 'Shrirang Karandikar.png',\n",
       " 'compressjpeg',\n",
       " 'elegibility certificate format (1).docx',\n",
       " 'trip (1).pdf',\n",
       " 'bigmart (1).pdf',\n",
       " '.ipynb_checkpoints',\n",
       " 'Dhruv Receipt for AlgoAsylum.pdf',\n",
       " 'MOU_Collegepond.pdf',\n",
       " 'Shalaka Receipt for AlgoAsylum.pdf',\n",
       " 'Vector_add_parallel.docx',\n",
       " 'report.pdf',\n",
       " 'pp.jpeg',\n",
       " 'Sponsorship Letter.docx',\n",
       " 'bigmartOutput.docx',\n",
       " 'usr',\n",
       " 'sublime_text_3_build_3207_x64.tar.bz2',\n",
       " 'Ten_Questions NEW.pdf',\n",
       " 'Business Card.pdf',\n",
       " 'bigmart.pdf',\n",
       " 'AISSMSCOE_Student Database 2018-19.rar',\n",
       " 'AISSMS ASHWAMEDH RULEBOOK 2019.pdf',\n",
       " 'lab1anaconda (1).pdf',\n",
       " 'ContentBased-Movie-Recommendation-using-Sentiment-Analysis-master.zip',\n",
       " 'Binary_search_parallel (1).docx',\n",
       " 'Black and White World Day Against Child Labor Poster (1)_page-0001.jpg',\n",
       " 'Untitled Diagram.drawio',\n",
       " 'Complex_and_Hypercomplex-Valued_Support_Vector_Mac.pdf',\n",
       " 'Family_Guy - season 16.en.zip',\n",
       " 'Shrirang Karandikar-page-001.jpg',\n",
       " 'ALL.txt',\n",
       " 'Shrirang Karandikar (1)-page-001.jpg',\n",
       " 'WhatsApp Image 2019-09-06 at 11.05.16.jpeg',\n",
       " 'CandidateHallTicket.pdf',\n",
       " 'Matrix_vector_multiply_parallel (1).docx',\n",
       " 'Violet Shape with Eyeshadow Photo Makeup Flyer',\n",
       " 'Quantum-Computing.docx',\n",
       " 'finalyear.pptx',\n",
       " 'synopsis111.pdf',\n",
       " 'Bubble_sort_parallel.docx',\n",
       " 'MOU_TheGateAcademy (1).pdf',\n",
       " 'newplot.png',\n",
       " 'Merge_sort_parallel.docx',\n",
       " 'A start-ups Journey.pdf',\n",
       " 'IMG_7476.CR2',\n",
       " 'Python-Applications-1.jpg',\n",
       " 'opera-stable_62.0.3331.43_amd64.deb',\n",
       " 'WhatsApp Image 2019-09-25 at 11.36.07.jpeg',\n",
       " 'Internship-Cover-Letter-Template.zip',\n",
       " 'Notes_190925_215444_29f.sdoc',\n",
       " 'google-chrome-stable_current_amd64 (1).deb',\n",
       " 'Shrirang Karandikar (1).pdf',\n",
       " 'Atharva Gite Receipt for AlgoAsylum.pdf',\n",
       " \"Shrirang's_Profile (1).pdf\",\n",
       " 'abscs mou (1)',\n",
       " 'rapidminer-studio-9.4.1',\n",
       " 'MC_A4_output.docx',\n",
       " 'DSC_0490 (1)-min.JPG',\n",
       " 'Matrix_matrix_multiply_parallel.docx',\n",
       " 'WhatsApp Image 2019-09-09 at 01.20.57.jpeg',\n",
       " 'trip.txt',\n",
       " 'Shrirang Profile.jpg',\n",
       " 'AStarAlgorithm.txt',\n",
       " 'New Doc 2019-09-20 22.15.25.pdf',\n",
       " 'car.names',\n",
       " 'Restaurant-recommendation-system-using-sentiment-analysis-master',\n",
       " 'compressjpeg.zip',\n",
       " 'C++ Fundamentals Brochure.pdf',\n",
       " 'Madhura Receipt for AlgoAsylum.pdf',\n",
       " 'MOU_TheGateAcademy.pdf',\n",
       " 'interstellar-english-yify-42252.zip',\n",
       " 'WhatsApp Image 2019-09-20 at 23.32.04.jpeg',\n",
       " 'Presentation2.pptx',\n",
       " 'bigmartOutput (1).docx',\n",
       " 'ieee paper published.doc',\n",
       " 'hospital (1).pl',\n",
       " 'Untitled Diagram (1).drawio',\n",
       " 'Matrix_vector_multiply_parallel.docx',\n",
       " 'automatetheboringstuffwithpython.pdf',\n",
       " 'Violet Shape with Eyeshadow Photo Makeup Flyer.zip',\n",
       " 'Black and White World Day Against Child Labor Poster (3).jpg',\n",
       " 'Ashwamedh PPT.pdf',\n",
       " 'Shrirang Karandikar.pdf',\n",
       " 'nlpexpt (1).slides.ipynb',\n",
       " 'DA 2015 (RMNCC1AE).pdf',\n",
       " 'Benefit Sheet Final.pdf',\n",
       " 'arduino-1.8.10-linux64.tar.xz',\n",
       " 'synopsis updations.pdf',\n",
       " 'elegibility certificate format (2).docx',\n",
       " 'BENEFITS AGAINST SPONSORSHIP.pdf',\n",
       " 'D220R44ApplicationForm.pdf',\n",
       " 'ieee paper published-1.doc',\n",
       " 'MC_mini_project_report.docx',\n",
       " 'PythonForDataScience-Aug2019-master.zip',\n",
       " 'arduino-1.8.10-linux64',\n",
       " 'sales_data.xlsx',\n",
       " 'iO7ULfyVEeiTKQ5ajE7PqA_89762c70fc9511e885804f04ed517030_notes_2.pdf',\n",
       " 'ieee paper published (1).odt',\n",
       " 'car.data',\n",
       " 'WhatsApp Image 2019-09-20 at 23.25.22-min.jpeg',\n",
       " 'ieee paper published (1).doc',\n",
       " 'contacts.csv',\n",
       " 'convert-jpg-to-pdf.net_2019-09-25_08-13-02.pdf',\n",
       " 'Student Database 2018-19',\n",
       " 'MC_A3_output.docx',\n",
       " 'B. E.-2012 -2015 Course Timetable for Nov.-2019 Examination_09.102019.pdf',\n",
       " 'IMG_7475.CR2',\n",
       " 'Breadth_Fisrt_Search_parallel (1).docx',\n",
       " 'Courses.png',\n",
       " 'output-onlinejpgtools.png',\n",
       " 'WhatsApp Image 2019-08-31 at 21.06.14.jpeg',\n",
       " 'Microsoft.Quantum.Development.Kit-0.7.1905.3109.vsix',\n",
       " 'Notes_190925_215444_29f',\n",
       " '108503319_ExamForm.PDF',\n",
       " 'MOU_Collegepond (1).pdf',\n",
       " 'WhatsApp Image 2019-09-20 at 23.33.25.jpeg',\n",
       " 'Anaconda3-2019.03-Linux-x86_64.sh',\n",
       " 'ieee paper published-1new.docx',\n",
       " 'nlpexpt (1).slides.txt',\n",
       " 'Project Workbook.docx',\n",
       " 'Business Card.jpg',\n",
       " 'ieee paper published (3).doc',\n",
       " 'Nancy Receipt for AlgoAsylum.pdf',\n",
       " 'skypeforlinux-64.rpm',\n",
       " 'DSC_0490 (1)-min-min.JPG',\n",
       " 'Atharva Deo Receipt for AlgoAsylum.pdf',\n",
       " 'New Doc 2019-09-20 23.23.30.pdf',\n",
       " 'lab1anaconda.pdf',\n",
       " '1501.00011.pdf',\n",
       " 'annualreport2018.pdf',\n",
       " 'lp1 expt list.docx',\n",
       " 'AISSMS ASHWAMEDH RULEBOOK 2019 (1).pdf',\n",
       " 'MOU_Collegepond (2).pdf',\n",
       " 'trip.pdf',\n",
       " 'FinalFinalCV.pdf',\n",
       " \"Trainer's Profile.pdf\",\n",
       " 'AISSMSCOE_Student Database 2018-19 (1).rar',\n",
       " 'WhatsApp_Image_2019-09-20_at_23.25.22.jpg',\n",
       " 'google-chrome-stable_current_amd64.deb',\n",
       " 'Restaurant-recommendation-system-using-sentiment-analysis-master.zip',\n",
       " 'WhatsApp Image 2019-09-09 at 22.28.34.jpeg',\n",
       " '.~lock.lp1 expt list.docx#',\n",
       " 'Devesh Receipt for AlgoAsylum.pdf',\n",
       " 'Shrirang Karandikar (2).pdf',\n",
       " 'Breadth_Fisrt_Search_parallel.docx',\n",
       " 'awesome-quantum-machine-learning-master.zip',\n",
       " 'May_Jun_2019.pdf',\n",
       " 'ieee paper published (2).doc',\n",
       " 'pima_diabetes_NB.ipynb',\n",
       " 'abscs mou',\n",
       " 'car.c45-names',\n",
       " 'HowToCreate64PiecesofContentInADayPDF.pdf',\n",
       " 'Vector_add_parallel (1).docx',\n",
       " 'Merge_sort_parallel (1).docx',\n",
       " 'Anuj Receipt for AlgoAsylum.pdf',\n",
       " 'Bubble_sort_parallel (1).docx',\n",
       " 'AISSMSCOE_Student Database 2018-19 (2).rar',\n",
       " '2-pjoag-Quantum Algorithm for LP--2007.pdf',\n",
       " 'code_1.35.1-1560350270_amd64.deb',\n",
       " 'Next-Steps-in-Quantum-Computing.pdf',\n",
       " 'notes.pdf',\n",
       " 'tor-browser-linux64-8.5.3_en-US.tar.xz',\n",
       " 'convert-jpg-to-pdf.net_2019-09-25_08-12-24.pdf',\n",
       " 'Untitled Diagram (2).drawio',\n",
       " 'hospital.pl',\n",
       " 'mahasecure-64bit.tar.gz',\n",
       " 'IMG_7482.CR2',\n",
       " 'IMG_7497.CR2']"
      ]
     },
     "execution_count": 23,
     "metadata": {},
     "output_type": "execute_result"
    }
   ],
   "source": [
    "os.chdir('/home/naiph/Downloads')\n",
    "os.listdir()"
   ]
  },
  {
   "cell_type": "code",
   "execution_count": 26,
   "metadata": {},
   "outputs": [
    {
     "ename": "FileNotFoundError",
     "evalue": "[Errno 2] No such file or directory: '/home/naiph/Desktop/rmtr'",
     "output_type": "error",
     "traceback": [
      "\u001b[0;31m---------------------------------------------------------------------------\u001b[0m",
      "\u001b[0;31mFileNotFoundError\u001b[0m                         Traceback (most recent call last)",
      "\u001b[0;32m<ipython-input-26-b0f45287f69e>\u001b[0m in \u001b[0;36m<module>\u001b[0;34m\u001b[0m\n\u001b[0;32m----> 1\u001b[0;31m \u001b[0mshutil\u001b[0m\u001b[0;34m.\u001b[0m\u001b[0mrmtree\u001b[0m\u001b[0;34m(\u001b[0m\u001b[0;34m'/home/naiph/Desktop/rmtr'\u001b[0m\u001b[0;34m)\u001b[0m\u001b[0;34m\u001b[0m\u001b[0;34m\u001b[0m\u001b[0m\n\u001b[0m\u001b[1;32m      2\u001b[0m \u001b[0;31m# file got deleted\u001b[0m\u001b[0;34m\u001b[0m\u001b[0;34m\u001b[0m\u001b[0;34m\u001b[0m\u001b[0m\n",
      "\u001b[0;32m~/anaconda3/lib/python3.7/shutil.py\u001b[0m in \u001b[0;36mrmtree\u001b[0;34m(path, ignore_errors, onerror)\u001b[0m\n\u001b[1;32m    480\u001b[0m             \u001b[0morig_st\u001b[0m \u001b[0;34m=\u001b[0m \u001b[0mos\u001b[0m\u001b[0;34m.\u001b[0m\u001b[0mlstat\u001b[0m\u001b[0;34m(\u001b[0m\u001b[0mpath\u001b[0m\u001b[0;34m)\u001b[0m\u001b[0;34m\u001b[0m\u001b[0;34m\u001b[0m\u001b[0m\n\u001b[1;32m    481\u001b[0m         \u001b[0;32mexcept\u001b[0m \u001b[0mException\u001b[0m\u001b[0;34m:\u001b[0m\u001b[0;34m\u001b[0m\u001b[0;34m\u001b[0m\u001b[0m\n\u001b[0;32m--> 482\u001b[0;31m             \u001b[0monerror\u001b[0m\u001b[0;34m(\u001b[0m\u001b[0mos\u001b[0m\u001b[0;34m.\u001b[0m\u001b[0mlstat\u001b[0m\u001b[0;34m,\u001b[0m \u001b[0mpath\u001b[0m\u001b[0;34m,\u001b[0m \u001b[0msys\u001b[0m\u001b[0;34m.\u001b[0m\u001b[0mexc_info\u001b[0m\u001b[0;34m(\u001b[0m\u001b[0;34m)\u001b[0m\u001b[0;34m)\u001b[0m\u001b[0;34m\u001b[0m\u001b[0;34m\u001b[0m\u001b[0m\n\u001b[0m\u001b[1;32m    483\u001b[0m             \u001b[0;32mreturn\u001b[0m\u001b[0;34m\u001b[0m\u001b[0;34m\u001b[0m\u001b[0m\n\u001b[1;32m    484\u001b[0m         \u001b[0;32mtry\u001b[0m\u001b[0;34m:\u001b[0m\u001b[0;34m\u001b[0m\u001b[0;34m\u001b[0m\u001b[0m\n",
      "\u001b[0;32m~/anaconda3/lib/python3.7/shutil.py\u001b[0m in \u001b[0;36mrmtree\u001b[0;34m(path, ignore_errors, onerror)\u001b[0m\n\u001b[1;32m    478\u001b[0m         \u001b[0;31m# lstat()/open()/fstat() trick.\u001b[0m\u001b[0;34m\u001b[0m\u001b[0;34m\u001b[0m\u001b[0;34m\u001b[0m\u001b[0m\n\u001b[1;32m    479\u001b[0m         \u001b[0;32mtry\u001b[0m\u001b[0;34m:\u001b[0m\u001b[0;34m\u001b[0m\u001b[0;34m\u001b[0m\u001b[0m\n\u001b[0;32m--> 480\u001b[0;31m             \u001b[0morig_st\u001b[0m \u001b[0;34m=\u001b[0m \u001b[0mos\u001b[0m\u001b[0;34m.\u001b[0m\u001b[0mlstat\u001b[0m\u001b[0;34m(\u001b[0m\u001b[0mpath\u001b[0m\u001b[0;34m)\u001b[0m\u001b[0;34m\u001b[0m\u001b[0;34m\u001b[0m\u001b[0m\n\u001b[0m\u001b[1;32m    481\u001b[0m         \u001b[0;32mexcept\u001b[0m \u001b[0mException\u001b[0m\u001b[0;34m:\u001b[0m\u001b[0;34m\u001b[0m\u001b[0;34m\u001b[0m\u001b[0m\n\u001b[1;32m    482\u001b[0m             \u001b[0monerror\u001b[0m\u001b[0;34m(\u001b[0m\u001b[0mos\u001b[0m\u001b[0;34m.\u001b[0m\u001b[0mlstat\u001b[0m\u001b[0;34m,\u001b[0m \u001b[0mpath\u001b[0m\u001b[0;34m,\u001b[0m \u001b[0msys\u001b[0m\u001b[0;34m.\u001b[0m\u001b[0mexc_info\u001b[0m\u001b[0;34m(\u001b[0m\u001b[0;34m)\u001b[0m\u001b[0;34m)\u001b[0m\u001b[0;34m\u001b[0m\u001b[0;34m\u001b[0m\u001b[0m\n",
      "\u001b[0;31mFileNotFoundError\u001b[0m: [Errno 2] No such file or directory: '/home/naiph/Desktop/rmtr'"
     ]
    }
   ],
   "source": [
    "shutil.rmtree('/home/naiph/Desktop/rmtr')\n",
    "# file got deleted"
   ]
  },
  {
   "cell_type": "code",
   "execution_count": 29,
   "metadata": {},
   "outputs": [
    {
     "name": "stdout",
     "output_type": "stream",
     "text": [
      "test\n",
      "CMB-Pune.pdf\n",
      "synopsis.docx\n",
      "te res.pdf\n",
      "Pune-CMB.pdf\n",
      ".ipynb_checkpoints\n",
      "arduino-arduinoide.desktop\n",
      "synopsis1.docx\n",
      "pht\n",
      "qc.pdf\n",
      "Updatedsynopsis.docx\n"
     ]
    }
   ],
   "source": [
    "os.chdir('/home/naiph/Desktop')\n",
    "\n",
    "for i in os.listdir():\n",
    "    print(i)"
   ]
  },
  {
   "cell_type": "code",
   "execution_count": 55,
   "metadata": {},
   "outputs": [
    {
     "name": "stdout",
     "output_type": "stream",
     "text": [
      "this is the main folder: /home/naiph/Desktop\n",
      "this is the sub folder: test\n",
      "this is the file: CMB-Pune.pdf\n",
      "this is the file: synopsis.docx\n",
      "this is the file: te res.pdf\n",
      "this is the file: Pune-CMB.pdf\n",
      "this is the file: arduino-arduinoide.desktop\n",
      "this is the file: synopsis1.docx\n",
      "this is the file: qc.pdf\n",
      "this is the file: Updatedsynopsis.docx\n",
      "this is the sub folder: .ipynb_checkpoints\n",
      "this is the file: CMB-Pune.pdf\n",
      "this is the file: synopsis.docx\n",
      "this is the file: te res.pdf\n",
      "this is the file: Pune-CMB.pdf\n",
      "this is the file: arduino-arduinoide.desktop\n",
      "this is the file: synopsis1.docx\n",
      "this is the file: qc.pdf\n",
      "this is the file: Updatedsynopsis.docx\n",
      "this is the sub folder: pht\n",
      "this is the file: CMB-Pune.pdf\n",
      "this is the file: synopsis.docx\n",
      "this is the file: te res.pdf\n",
      "this is the file: Pune-CMB.pdf\n",
      "this is the file: arduino-arduinoide.desktop\n",
      "this is the file: synopsis1.docx\n",
      "this is the file: qc.pdf\n",
      "this is the file: Updatedsynopsis.docx\n",
      "this is the main folder: /home/naiph/Desktop/test\n",
      "this is the main folder: /home/naiph/Desktop/.ipynb_checkpoints\n",
      "this is the main folder: /home/naiph/Desktop/pht\n",
      "this is the sub folder: Trekfit\n",
      "this is the file: DSC_0088.JPG\n",
      "this is the file: DSC_0171.JPG\n",
      "this is the file: DSC_0195.JPG\n",
      "this is the file: DSC_0291.JPG\n",
      "this is the file: DSC_0255.JPG\n",
      "this is the file: DSC_0082.JPG\n",
      "this is the file: DSC_0128.JPG\n",
      "this is the file: DSC_0149.JPG\n",
      "this is the file: DSC_0166.JPG\n",
      "this is the file: DSC_0115.JPG\n",
      "this is the file: DSC_0023.JPG\n",
      "this is the file: DSC_0240.JPG\n",
      "this is the file: DSC_0178.JPG\n",
      "this is the file: DSC_0031.JPG\n",
      "this is the file: DSC_0140.JPG\n",
      "this is the file: DSC_0051.JPG\n",
      "this is the file: DSC_0040.JPG\n",
      "this is the file: DSC_0266.JPG\n",
      "this is the file: DSC_0237.JPG\n",
      "this is the file: DSC_0045.JPG\n",
      "this is the file: DSC_0154.JPG\n",
      "this is the file: DSC_0057.JPG\n",
      "this is the file: DSC_0258.JPG\n",
      "this is the file: DSC_0025.JPG\n",
      "this is the file: DSC_0216.JPG\n",
      "this is the file: DSC_0169.JPG\n",
      "this is the file: DSC_0049.JPG\n",
      "this is the file: DSC_0233.JPG\n",
      "this is the file: DSC_0091.JPG\n",
      "this is the file: DSC_0185.JPG\n",
      "this is the file: DSC_0103.JPG\n",
      "this is the file: DSC_0093.JPG\n",
      "this is the file: DSC_0164.JPG\n",
      "this is the file: DSC_0203.JPG\n",
      "this is the file: DSC_0006.MOV\n",
      "this is the file: DSC_0283.JPG\n",
      "this is the file: DSC_0192.JPG\n",
      "this is the file: DSC_0160.JPG\n",
      "this is the file: DSC_0211.JPG\n",
      "this is the file: DSC_0003.MOV\n",
      "this is the file: DSC_0197.JPG\n",
      "this is the file: DSC_0297.JPG\n",
      "this is the file: DSC_0221.JPG\n",
      "this is the file: DSC_0179.JPG\n",
      "this is the file: DSC_0067.JPG\n",
      "this is the file: DSC_0238.JPG\n",
      "this is the file: DSC_0212.JPG\n",
      "this is the file: DSC_0137.JPG\n",
      "this is the file: DSC_0034.JPG\n",
      "this is the file: DSC_0107.JPG\n",
      "this is the file: DSC_0065.JPG\n",
      "this is the file: DSC_0289.JPG\n",
      "this is the file: DSC_0162.JPG\n",
      "this is the file: DSC_0292.JPG\n",
      "this is the file: DSC_0113.JPG\n",
      "this is the file: DSC_0143.JPG\n",
      "this is the file: DSC_0127.JPG\n",
      "this is the file: DSC_0201.JPG\n",
      "this is the file: DSC_0225.JPG\n",
      "this is the file: DSC_0089.JPG\n",
      "this is the file: DSC_0245.JPG\n",
      "this is the file: DSC_0232.JPG\n",
      "this is the file: DSC_0300.JPG\n",
      "this is the file: DSC_0141.JPG\n",
      "this is the file: DSC_0277.JPG\n",
      "this is the file: DSC_0106.JPG\n",
      "this is the file: DSC_0204.JPG\n",
      "this is the file: DSC_0305.JPG\n",
      "this is the file: DSC_0259.JPG\n",
      "this is the file: DSC_0078.JPG\n",
      "this is the file: DSC_0173.JPG\n",
      "this is the file: DSC_0010.JPG\n",
      "this is the file: DSC_0159.JPG\n",
      "this is the file: DSC_0236.JPG\n",
      "this is the file: DSC_0228.JPG\n",
      "this is the file: DSC_0248.JPG\n",
      "this is the file: DSC_0176.JPG\n",
      "this is the file: DSC_0163.JPG\n",
      "this is the file: DSC_0184.JPG\n",
      "this is the file: DSC_0281.JPG\n",
      "this is the file: DSC_0279.JPG\n",
      "this is the file: DSC_0095.JPG\n",
      "this is the file: DSC_0097.JPG\n",
      "this is the file: DSC_0285.JPG\n",
      "this is the file: DSC_0096.JPG\n",
      "this is the file: DSC_0219.JPG\n",
      "this is the file: DSC_0155.JPG\n",
      "this is the file: DSC_0247.JPG\n",
      "this is the file: DSC_0079.JPG\n",
      "this is the file: DSC_0114.JPG\n",
      "this is the file: DSC_0246.JPG\n",
      "this is the file: DSC_0144.JPG\n",
      "this is the file: DSC_0249.JPG\n",
      "this is the file: DSC_0032.JPG\n",
      "this is the file: DSC_0239.JPG\n",
      "this is the file: DSC_0296.JPG\n",
      "this is the file: DSC_0243.JPG\n",
      "this is the file: DSC_0280.JPG\n",
      "this is the file: DSC_0016.JPG\n",
      "this is the file: DSC_0172.JPG\n",
      "this is the file: DSC_0287.JPG\n",
      "this is the file: DSC_0220.JPG\n",
      "this is the file: DSC_0119.JPG\n",
      "this is the file: DSC_0020.JPG\n",
      "this is the file: DSC_0056.JPG\n",
      "this is the file: DSC_0294.JPG\n",
      "this is the file: DSC_0121.JPG\n",
      "this is the file: DSC_0068.JPG\n",
      "this is the file: DSC_0024.JPG\n",
      "this is the file: DSC_0084.JPG\n",
      "this is the file: DSC_0036.JPG\n",
      "this is the file: DSC_0295.JPG\n",
      "this is the file: DSC_0298.JPG\n",
      "this is the file: DSC_0217.JPG\n",
      "this is the file: DSC_0008.MOV\n",
      "this is the file: DSC_0060.JPG\n",
      "this is the file: DSC_0009.MOV\n",
      "this is the file: DSC_0110.JPG\n",
      "this is the file: DSC_0224.JPG\n",
      "this is the file: DSC_0027.JPG\n",
      "this is the file: DSC_0100.JPG\n",
      "this is the file: DSC_0302.JPG\n",
      "this is the file: DSC_0180.JPG\n",
      "this is the file: DSC_0244.JPG\n",
      "this is the file: DSC_0271.JPG\n",
      "this is the file: DSC_0256.JPG\n",
      "this is the file: DSC_0290.JPG\n",
      "this is the file: DSC_0174.JPG\n",
      "this is the file: DSC_0254.JPG\n",
      "this is the file: DSC_0168.JPG\n",
      "this is the file: DSC_0182.JPG\n",
      "this is the file: DSC_0081.JPG\n",
      "this is the file: DSC_0073.JPG\n",
      "this is the file: DSC_0222.JPG\n",
      "this is the file: DSC_0112.JPG\n",
      "this is the file: DSC_0231.JPG\n",
      "this is the file: DSC_0209.JPG\n",
      "this is the file: DSC_0215.JPG\n",
      "this is the file: DSC_0131.JPG\n",
      "this is the file: DSC_0253.JPG\n",
      "this is the file: DSC_0074.JPG\n",
      "this is the file: DSC_0263.JPG\n",
      "this is the file: DSC_0282.JPG\n",
      "this is the file: DSC_0265.JPG\n",
      "this is the file: DSC_0117.JPG\n",
      "this is the file: DSC_0052.JPG\n",
      "this is the file: DSC_0157.JPG\n",
      "this is the file: DSC_0213.JPG\n",
      "this is the file: DSC_0198.JPG\n",
      "this is the file: DSC_0218.JPG\n",
      "this is the file: DSC_0120.JPG\n",
      "this is the file: DSC_0252.JPG\n",
      "this is the file: DSC_0064.JPG\n",
      "this is the file: DSC_0230.JPG\n",
      "this is the file: DSC_0037.JPG\n",
      "this is the file: DSC_0261.JPG\n",
      "this is the file: DSC_0196.JPG\n",
      "this is the file: DSC_0151.JPG\n",
      "this is the file: DSC_0278.JPG\n",
      "this is the file: DSC_0092.JPG\n",
      "this is the file: DSC_0086.JPG\n",
      "this is the file: DSC_0129.JPG\n",
      "this is the file: DSC_0145.JPG\n",
      "this is the file: DSC_0018.JPG\n",
      "this is the file: DSC_0235.JPG\n",
      "this is the file: DSC_0183.JPG\n",
      "this is the file: DSC_0262.JPG\n",
      "this is the file: DSC_0156.JPG\n",
      "this is the file: DSC_0033.JPG\n",
      "this is the file: DSC_0194.JPG\n",
      "this is the file: DSC_0234.JPG\n",
      "this is the file: DSC_0085.JPG\n",
      "this is the file: DSC_0152.JPG\n",
      "this is the file: DSC_0098.JPG\n",
      "this is the file: DSC_0077.JPG\n",
      "this is the file: DSC_0139.JPG\n",
      "this is the file: DSC_0005.MOV\n",
      "this is the file: DSC_0260.JPG\n",
      "this is the file: DSC_0013.JPG\n",
      "this is the file: DSC_0055.JPG\n",
      "this is the file: DSC_0014.MOV\n",
      "this is the file: DSC_0200.JPG\n",
      "this is the file: DSC_0099.JPG\n",
      "this is the file: DSC_0293.JPG\n",
      "this is the file: DSC_0187.JPG\n",
      "this is the file: DSC_0118.JPG\n",
      "this is the file: DSC_0123.JPG\n",
      "this is the file: DSC_0257.JPG\n",
      "this is the file: DSC_0094.JPG\n",
      "this is the file: DSC_0104.JPG\n",
      "this is the file: DSC_0012.MOV\n",
      "this is the file: DSC_0251.JPG\n",
      "this is the file: DSC_0190.JPG\n",
      "this is the file: DSC_0186.JPG\n",
      "this is the file: DSC_0116.JPG\n",
      "this is the file: DSC_0048.JPG\n",
      "this is the file: DSC_0242.JPG\n",
      "this is the file: DSC_0165.JPG\n",
      "this is the file: DSC_0076.JPG\n",
      "this is the file: DSC_0058.JPG\n",
      "this is the file: DSC_0038.JPG\n",
      "this is the file: DSC_0102.JPG\n",
      "this is the file: DSC_0044.JPG\n",
      "this is the file: DSC_0122.JPG\n",
      "this is the file: DSC_0188.JPG\n",
      "this is the file: DSC_0241.JPG\n",
      "this is the file: DSC_0226.JPG\n",
      "this is the file: DSC_0148.JPG\n",
      "this is the file: DSC_0007.MOV\n",
      "this is the file: DSC_0138.JPG\n",
      "this is the file: DSC_0229.JPG\n",
      "this is the file: DSC_0002.MOV\n",
      "this is the file: DSC_0136.JPG\n",
      "this is the file: DSC_0227.JPG\n",
      "this is the file: DSC_0001.MOV\n",
      "this is the file: DSC_0214.JPG\n",
      "this is the file: DSC_0205.JPG\n",
      "this is the file: DSC_0210.JPG\n",
      "this is the file: DSC_0146.JPG\n",
      "this is the file: DSC_0299.JPG\n",
      "this is the file: DSC_0041.JPG\n",
      "this is the file: DSC_0063.JPG\n",
      "this is the file: DSC_0275.JPG\n",
      "this is the file: DSC_0223.JPG\n",
      "this is the file: DSC_0284.JPG\n",
      "this is the file: DSC_0070.JPG\n",
      "this is the file: DSC_0147.JPG\n",
      "this is the file: DSC_0301.JPG\n",
      "this is the file: DSC_0075.JPG\n",
      "this is the file: DSC_0039.JPG\n",
      "this is the file: DSC_0153.JPG\n",
      "this is the file: DSC_0133.JPG\n",
      "this is the file: DSC_0019.JPG\n",
      "this is the file: DSC_0272.JPG\n",
      "this is the file: DSC_0199.JPG\n",
      "this is the file: DSC_0264.JPG\n",
      "this is the file: DSC_0125.JPG\n",
      "this is the file: DSC_0109.JPG\n",
      "this is the file: DSC_0304.JPG\n",
      "this is the file: DSC_0270.JPG\n",
      "this is the file: DSC_0206.JPG\n",
      "this is the file: DSC_0130.JPG\n",
      "this is the file: DSC_0189.JPG\n",
      "this is the file: DSC_0029.JPG\n",
      "this is the file: DSC_0273.JPG\n",
      "this is the file: DSC_0050.JPG\n",
      "this is the file: DSC_0150.JPG\n",
      "this is the file: DSC_0028.JPG\n",
      "this is the file: DSC_0132.JPG\n",
      "this is the file: DSC_0170.JPG\n",
      "this is the file: DSC_0276.JPG\n",
      "this is the file: DSC_0026.JPG\n",
      "this is the file: DSC_0061.JPG\n",
      "this is the file: DSC_0101.JPG\n",
      "this is the file: DSC_0062.JPG\n",
      "this is the file: DSC_0207.JPG\n",
      "this is the file: DSC_0191.JPG\n",
      "this is the file: DSC_0288.JPG\n",
      "this is the file: DSC_0269.JPG\n",
      "this is the file: DSC_0142.JPG\n",
      "this is the file: DSC_0046.JPG\n",
      "this is the file: DSC_0108.JPG\n",
      "this is the file: DSC_0066.JPG\n",
      "this is the file: DSC_0193.JPG\n",
      "this is the file: DSC_0167.JPG\n",
      "this is the file: DSC_0181.JPG\n",
      "this is the file: DSC_0022.JPG\n",
      "this is the file: DSC_0090.JPG\n",
      "this is the file: DSC_0080.JPG\n",
      "this is the file: DSC_0043.JPG\n",
      "this is the file: DSC_0135.JPG\n",
      "this is the file: DSC_0042.JPG\n",
      "this is the file: DSC_0134.JPG\n",
      "this is the file: DSC_0250.JPG\n",
      "this is the file: DSC_0105.JPG\n",
      "this is the file: DSC_0047.JPG\n",
      "this is the file: DSC_0083.JPG\n",
      "this is the file: DSC_0111.JPG\n",
      "this is the file: DSC_0158.JPG\n",
      "this is the file: DSC_0069.JPG\n",
      "this is the file: DSC_0011.MOV\n",
      "this is the file: DSC_0017.JPG\n",
      "this is the file: DSC_0072.JPG\n",
      "this is the file: DSC_0267.JPG\n",
      "this is the file: DSC_0015.MOV\n",
      "this is the file: DSC_0274.JPG\n",
      "this is the file: DSC_0124.JPG\n",
      "this is the file: DSC_0286.JPG\n",
      "this is the file: DSC_0303.JPG\n",
      "this is the file: DSC_0175.JPG\n",
      "this is the file: DSC_0030.JPG\n",
      "this is the file: DSC_0208.JPG\n",
      "this is the file: DSC_0161.JPG\n",
      "this is the file: DSC_0087.JPG\n",
      "this is the file: DSC_0021.JPG\n",
      "this is the file: DSC_0035.JPG\n",
      "this is the file: DSC_0202.JPG\n",
      "this is the file: DSC_0126.JPG\n",
      "this is the file: DSC_0004.MOV\n",
      "this is the file: DSC_0059.JPG\n",
      "this is the file: DSC_0071.JPG\n",
      "this is the file: DSC_0177.JPG\n",
      "this is the file: DSC_0268.JPG\n",
      "this is the main folder: /home/naiph/Desktop/pht/Trekfit\n"
     ]
    }
   ],
   "source": [
    "for mainfolder, subfolders, filenames in os.walk('/home/naiph/Desktop'):\n",
    "    print(\"this is the main folder: \" + mainfolder)\n",
    "    for subfolder in subfolders:\n",
    "        print(\"this is the sub folder: \" + subfolder)\n",
    "        for filename in filenames:\n",
    "            print(\"this is the file: \" + filename)\n",
    "\n",
    "                    "
   ]
  },
  {
   "cell_type": "code",
   "execution_count": 59,
   "metadata": {},
   "outputs": [
    {
     "data": {
      "text/plain": [
       "'/home/naiph/Downloads'"
      ]
     },
     "execution_count": 59,
     "metadata": {},
     "output_type": "execute_result"
    }
   ],
   "source": [
    "import zipfile\n",
    "os.chdir('/home/naiph/Downloads')\n",
    "os.getcwd()"
   ]
  },
  {
   "cell_type": "code",
   "execution_count": 63,
   "metadata": {},
   "outputs": [
    {
     "data": {
      "text/plain": [
       "['Interstellar.2014.720p.BluRay.x264.YIFY.srt']"
      ]
     },
     "execution_count": 63,
     "metadata": {},
     "output_type": "execute_result"
    }
   ],
   "source": [
    "x = zipfile.ZipFile('test.zip')\n",
    "x.namelist()"
   ]
  },
  {
   "cell_type": "code",
   "execution_count": 68,
   "metadata": {},
   "outputs": [],
   "source": [
    "spamInfo = x.getinfo('Interstellar.2014.720p.BluRay.x264.YIFY.srt')"
   ]
  },
  {
   "cell_type": "code",
   "execution_count": 71,
   "metadata": {},
   "outputs": [
    {
     "data": {
      "text/plain": [
       "153034"
      ]
     },
     "execution_count": 71,
     "metadata": {},
     "output_type": "execute_result"
    }
   ],
   "source": [
    "spamInfo.file_size"
   ]
  },
  {
   "cell_type": "code",
   "execution_count": 73,
   "metadata": {},
   "outputs": [
    {
     "data": {
      "text/plain": [
       "59137"
      ]
     },
     "execution_count": 73,
     "metadata": {},
     "output_type": "execute_result"
    }
   ],
   "source": [
    "spamInfo.compress_size"
   ]
  },
  {
   "cell_type": "code",
   "execution_count": 75,
   "metadata": {},
   "outputs": [
    {
     "data": {
      "text/plain": [
       "False"
      ]
     },
     "execution_count": 75,
     "metadata": {},
     "output_type": "execute_result"
    }
   ],
   "source": [
    "path = '/home/naiph/Downloads'\n",
    "x.extractall()\n",
    "'test' in os.listdir(path)"
   ]
  },
  {
   "cell_type": "code",
   "execution_count": null,
   "metadata": {},
   "outputs": [],
   "source": []
  },
  {
   "cell_type": "code",
   "execution_count": null,
   "metadata": {},
   "outputs": [],
   "source": []
  },
  {
   "cell_type": "code",
   "execution_count": null,
   "metadata": {},
   "outputs": [],
   "source": []
  },
  {
   "cell_type": "code",
   "execution_count": null,
   "metadata": {},
   "outputs": [],
   "source": []
  }
 ],
 "metadata": {
  "kernelspec": {
   "display_name": "Python 3",
   "language": "python",
   "name": "python3"
  },
  "language_info": {
   "codemirror_mode": {
    "name": "ipython",
    "version": 3
   },
   "file_extension": ".py",
   "mimetype": "text/x-python",
   "name": "python",
   "nbconvert_exporter": "python",
   "pygments_lexer": "ipython3",
   "version": "3.7.3"
  }
 },
 "nbformat": 4,
 "nbformat_minor": 2
}
