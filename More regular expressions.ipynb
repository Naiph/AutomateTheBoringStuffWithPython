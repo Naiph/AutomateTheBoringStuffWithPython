{
 "cells": [
  {
   "cell_type": "code",
   "execution_count": 99,
   "metadata": {},
   "outputs": [],
   "source": [
    "import re, os"
   ]
  },
  {
   "cell_type": "code",
   "execution_count": 98,
   "metadata": {},
   "outputs": [
    {
     "data": {
      "text/plain": [
       "['!']"
      ]
     },
     "execution_count": 98,
     "metadata": {},
     "output_type": "execute_result"
    }
   ],
   "source": [
    "regEm = re.compile(r'!$')\n",
    "regEm.findall('Hi I am Yu 123!')"
   ]
  },
  {
   "cell_type": "code",
   "execution_count": 72,
   "metadata": {},
   "outputs": [
    {
     "data": {
      "text/plain": [
       "[('jndjsdo@@@', 'isd')]"
      ]
     },
     "execution_count": 72,
     "metadata": {},
     "output_type": "execute_result"
    }
   ],
   "source": [
    "#Email check\n",
    "anyreg = re.compile(r'(.+)@(.+)')\n",
    "anyreg.findall('jndjsdo@@@@isd')"
   ]
  },
  {
   "cell_type": "code",
   "execution_count": 76,
   "metadata": {},
   "outputs": [
    {
     "data": {
      "text/plain": [
       "['7974982374', '8234982374']"
      ]
     },
     "execution_count": 76,
     "metadata": {},
     "output_type": "execute_result"
    }
   ],
   "source": [
    "#ph no\n",
    "reg = re.compile(r'\\d{10}')\n",
    "reg.findall('8987398 7 2 9 34 3 289473294 797498237499 8234982374893274')"
   ]
  },
  {
   "cell_type": "code",
   "execution_count": 105,
   "metadata": {},
   "outputs": [
    {
     "data": {
      "text/plain": [
       "[]"
      ]
     },
     "execution_count": 105,
     "metadata": {},
     "output_type": "execute_result"
    }
   ],
   "source": [
    "search_regex = re.compile(r'\\s?\\w*\\$[ly]')   # Matches all words ending in !\n",
    "search_regex.findall('kjfkdf! fiodfly nsdknfsdly lsdnvdsv!')"
   ]
  },
  {
   "cell_type": "code",
   "execution_count": 107,
   "metadata": {},
   "outputs": [
    {
     "data": {
      "text/plain": [
       "'/home/naiph/ASBP'"
      ]
     },
     "execution_count": 107,
     "metadata": {},
     "output_type": "execute_result"
    }
   ],
   "source": [
    "os.getcwd()"
   ]
  },
  {
   "cell_type": "code",
   "execution_count": 179,
   "metadata": {},
   "outputs": [
    {
     "name": "stdout",
     "output_type": "stream",
     "text": [
      " No!  up!  leg!  on!  turbo!  it!  Tom!  up!  kit! \n",
      "Whoa!  go!  stop!  Dad!  Tom!  this!  Aah!  away!  shoot!  Aah!  down! \n",
      "Dad!  away!  Go!  books!  listening! Stay!  that!  all!  Murph!  Murph!  Donald!  Dad! \n",
      "Dad!  Dad!  idea!  it!  Wormhole! t! t!  ease!  fast!  water!  it!  on! \n",
      "Fire!  go!  go!  count!  mountains!  now!  now!  time!  coming!  now!  now!  Go!  Go!  Brand!  go!  Go!  it!  are!  her!  Doyle!  on!  hatch!  go!  Go!  hatch! \n",
      "Cooper!  Wait!  flooded!  on!  it!  me!  here!  mission!  thing!  enough!  on!  thrusters!  up!  this! \n",
      "No!  die!  sorry!  sorry!  sorry!  Oh!  Jesus!  Tom!  try!  us!  it!  No!  yourself! \n",
      "Brand!  Help!  Help!  CASE!  coming!  CASE!  Go!  go!  away!  on!  on!  CASE!  faster!  him!  bank!  right! \n",
      "Cooper!  Cooper!  here!  lying!  Romilly! \n",
      "Romilly!  professor!  back!  watch! clock!  orbit!  on!  now!  respond!  CASE!  full!  Back!  stratosphere! \n",
      "Cooper!  spin!  TARS!  up!  thrusters!  engines!  trick!  asshole!  Fire!  years!  120!  Detach!  Slick!  flying! \n",
      "No!  No!  Cooper! \n",
      "TARS!  on! \n",
      "Murph!  Murph!  Murph!  no! \n",
      "Murph! \n",
      "Murph!  No!  No!  go! \n",
      "Dash! \n",
      "Dash!  Dash!  Murph!  this!  on! Stay!  on!  Murph!  Murph! \n",
      "No!  No!  No!  out!  on!  Think!  here!  bridge!  anything!  key!  car!  Murph!  back!  time!  him! \n",
      "Eureka! \n",
      "Eureka!\n",
      " him!  know!  now!  it!  Cobb!  Cobb!  her!  go!  go!  Mal!  Mal!  Cobb!  up!  up!  up!  No!  no!  No!  up!  Cobb!  him! \n",
      "There! \n",
      "James!  Phillipa!  in!  promised!  together!  now!  together!  together!  Asshole!  him!  Down!  now!  him!  down!  it!  responsibility!  background!  this!  before!  fine!  plan!  that!  up!  mother!  dreaming!  this!  you!  me!  it!  me! \n",
      "Sweetheart!  me!  no!  Christ! \n",
      "James!  Phillipa!  in!  on!  now!  now!  now!  Ready!  on!  Wait!  Christ!  Think!  Fischer!  alarm!  alarm!  go! \n",
      "Move! \n",
      "Go!  Hey!  him! \n",
      "Cobb!  Run!  around!  base!  base!  go!  on!  on!  Move!  Eames!  now!  why!  together!  no!  Jesus!  here!  now!  no!  Ariadne!  now!  yourself!  back!  will!  guys!  Hey!  Daddy!  Daddy!  Daddy!  building!  cliff!  Daddy!\n"
     ]
    }
   ],
   "source": [
    "import os\n",
    "import re\n",
    "\n",
    "# List all files in directory and filter those that aren't txt files\n",
    "files = os.listdir(os.getcwd())\n",
    "txt_files = []\n",
    "\n",
    "txt_regex = re.compile(r'.txt')\n",
    "\n",
    "for doc in files:\n",
    "    if txt_regex.search(doc) is not None:\n",
    "        txt_files.append(doc)\n",
    "spam = []\n",
    "f = ''\n",
    "# Write regex to match\n",
    "search_regex = re.compile(r'\\s?\\w*\\!')   # Matches all words ending in !\n",
    "\n",
    "# Open each txt file in turn and if regex triggers print matches to console\n",
    "for doc in txt_files:\n",
    "    opened_file = open('{0}/{1}'.format(os.getcwd(), doc))\n",
    "    contents = opened_file.read()\n",
    "    string = ''.join(contents)\n",
    "    found = search_regex.findall(string)\n",
    "    found_str = ' '.join(found)\n",
    "    print(found_str)\n",
    "    f = f + found_str\n"
   ]
  },
  {
   "cell_type": "code",
   "execution_count": 181,
   "metadata": {},
   "outputs": [
    {
     "data": {
      "text/plain": [
       "['No!',\n",
       " 'up!',\n",
       " 'leg!',\n",
       " 'on!',\n",
       " 'turbo!',\n",
       " 'it!',\n",
       " 'Tom!',\n",
       " 'up!',\n",
       " 'kit!',\n",
       " 'Whoa!',\n",
       " 'go!',\n",
       " 'stop!',\n",
       " 'Dad!',\n",
       " 'Tom!',\n",
       " 'this!',\n",
       " 'Aah!',\n",
       " 'away!',\n",
       " 'shoot!',\n",
       " 'Aah!',\n",
       " 'down!',\n",
       " 'Dad!',\n",
       " 'away!',\n",
       " 'Go!',\n",
       " 'books!',\n",
       " 'listening!',\n",
       " 'Stay!',\n",
       " 'that!',\n",
       " 'all!',\n",
       " 'Murph!',\n",
       " 'Murph!',\n",
       " 'Donald!',\n",
       " 'Dad!',\n",
       " 'Dad!',\n",
       " 'Dad!',\n",
       " 'idea!',\n",
       " 'it!',\n",
       " 'Wormhole!',\n",
       " 't!',\n",
       " 't!',\n",
       " 'ease!',\n",
       " 'fast!',\n",
       " 'water!',\n",
       " 'it!',\n",
       " 'on!',\n",
       " 'Fire!',\n",
       " 'go!',\n",
       " 'go!',\n",
       " 'count!',\n",
       " 'mountains!',\n",
       " 'now!',\n",
       " 'now!',\n",
       " 'time!',\n",
       " 'coming!',\n",
       " 'now!',\n",
       " 'now!',\n",
       " 'Go!',\n",
       " 'Go!',\n",
       " 'Brand!',\n",
       " 'go!',\n",
       " 'Go!',\n",
       " 'it!',\n",
       " 'are!',\n",
       " 'her!',\n",
       " 'Doyle!',\n",
       " 'on!',\n",
       " 'hatch!',\n",
       " 'go!',\n",
       " 'Go!',\n",
       " 'hatch!',\n",
       " 'Cooper!',\n",
       " 'Wait!',\n",
       " 'flooded!',\n",
       " 'on!',\n",
       " 'it!',\n",
       " 'me!',\n",
       " 'here!',\n",
       " 'mission!',\n",
       " 'thing!',\n",
       " 'enough!',\n",
       " 'on!',\n",
       " 'thrusters!',\n",
       " 'up!',\n",
       " 'this!',\n",
       " 'No!',\n",
       " 'die!',\n",
       " 'sorry!',\n",
       " 'sorry!',\n",
       " 'sorry!',\n",
       " 'Oh!',\n",
       " 'Jesus!',\n",
       " 'Tom!',\n",
       " 'try!',\n",
       " 'us!',\n",
       " 'it!',\n",
       " 'No!',\n",
       " 'yourself!',\n",
       " 'Brand!',\n",
       " 'Help!',\n",
       " 'Help!',\n",
       " 'CASE!',\n",
       " 'coming!',\n",
       " 'CASE!',\n",
       " 'Go!',\n",
       " 'go!',\n",
       " 'away!',\n",
       " 'on!',\n",
       " 'on!',\n",
       " 'CASE!',\n",
       " 'faster!',\n",
       " 'him!',\n",
       " 'bank!',\n",
       " 'right!',\n",
       " 'Cooper!',\n",
       " 'Cooper!',\n",
       " 'here!',\n",
       " 'lying!',\n",
       " 'Romilly!',\n",
       " 'Romilly!',\n",
       " 'professor!',\n",
       " 'back!',\n",
       " 'watch!',\n",
       " 'clock!',\n",
       " 'orbit!',\n",
       " 'on!',\n",
       " 'now!',\n",
       " 'respond!',\n",
       " 'CASE!',\n",
       " 'full!',\n",
       " 'Back!',\n",
       " 'stratosphere!',\n",
       " 'Cooper!',\n",
       " 'spin!',\n",
       " 'TARS!',\n",
       " 'up!',\n",
       " 'thrusters!',\n",
       " 'engines!',\n",
       " 'trick!',\n",
       " 'asshole!',\n",
       " 'Fire!',\n",
       " 'years!',\n",
       " '120!',\n",
       " 'Detach!',\n",
       " 'Slick!',\n",
       " 'flying!',\n",
       " 'No!',\n",
       " 'No!',\n",
       " 'Cooper!',\n",
       " 'TARS!',\n",
       " 'on!',\n",
       " 'Murph!',\n",
       " 'Murph!',\n",
       " 'Murph!',\n",
       " 'no!',\n",
       " 'Murph!',\n",
       " 'Murph!',\n",
       " 'No!',\n",
       " 'No!',\n",
       " 'go!',\n",
       " 'Dash!',\n",
       " 'Dash!',\n",
       " 'Dash!',\n",
       " 'Murph!',\n",
       " 'this!',\n",
       " 'on!',\n",
       " 'Stay!',\n",
       " 'on!',\n",
       " 'Murph!',\n",
       " 'Murph!',\n",
       " 'No!',\n",
       " 'No!',\n",
       " 'No!',\n",
       " 'out!',\n",
       " 'on!',\n",
       " 'Think!',\n",
       " 'here!',\n",
       " 'bridge!',\n",
       " 'anything!',\n",
       " 'key!',\n",
       " 'car!',\n",
       " 'Murph!',\n",
       " 'back!',\n",
       " 'time!',\n",
       " 'him!',\n",
       " 'Eureka!',\n",
       " 'Eureka!',\n",
       " 'him!',\n",
       " 'know!',\n",
       " 'now!',\n",
       " 'it!',\n",
       " 'Cobb!',\n",
       " 'Cobb!',\n",
       " 'her!',\n",
       " 'go!',\n",
       " 'go!',\n",
       " 'Mal!',\n",
       " 'Mal!',\n",
       " 'Cobb!',\n",
       " 'up!',\n",
       " 'up!',\n",
       " 'up!',\n",
       " 'No!',\n",
       " 'no!',\n",
       " 'No!',\n",
       " 'up!',\n",
       " 'Cobb!',\n",
       " 'him!',\n",
       " 'There!',\n",
       " 'James!',\n",
       " 'Phillipa!',\n",
       " 'in!',\n",
       " 'promised!',\n",
       " 'together!',\n",
       " 'now!',\n",
       " 'together!',\n",
       " 'together!',\n",
       " 'Asshole!',\n",
       " 'him!',\n",
       " 'Down!',\n",
       " 'now!',\n",
       " 'him!',\n",
       " 'down!',\n",
       " 'it!',\n",
       " 'responsibility!',\n",
       " 'background!',\n",
       " 'this!',\n",
       " 'before!',\n",
       " 'fine!',\n",
       " 'plan!',\n",
       " 'that!',\n",
       " 'up!',\n",
       " 'mother!',\n",
       " 'dreaming!',\n",
       " 'this!',\n",
       " 'you!',\n",
       " 'me!',\n",
       " 'it!',\n",
       " 'me!',\n",
       " 'Sweetheart!',\n",
       " 'me!',\n",
       " 'no!',\n",
       " 'Christ!',\n",
       " 'James!',\n",
       " 'Phillipa!',\n",
       " 'in!',\n",
       " 'on!',\n",
       " 'now!',\n",
       " 'now!',\n",
       " 'now!',\n",
       " 'Ready!',\n",
       " 'on!',\n",
       " 'Wait!',\n",
       " 'Christ!',\n",
       " 'Think!',\n",
       " 'Fischer!',\n",
       " 'alarm!',\n",
       " 'alarm!',\n",
       " 'go!',\n",
       " 'Move!',\n",
       " 'Go!',\n",
       " 'Hey!',\n",
       " 'him!',\n",
       " 'Cobb!',\n",
       " 'Run!',\n",
       " 'around!',\n",
       " 'base!',\n",
       " 'base!',\n",
       " 'go!',\n",
       " 'on!',\n",
       " 'on!',\n",
       " 'Move!',\n",
       " 'Eames!',\n",
       " 'now!',\n",
       " 'why!',\n",
       " 'together!',\n",
       " 'no!',\n",
       " 'Jesus!',\n",
       " 'here!',\n",
       " 'now!',\n",
       " 'no!',\n",
       " 'Ariadne!',\n",
       " 'now!',\n",
       " 'yourself!',\n",
       " 'back!',\n",
       " 'will!',\n",
       " 'guys!',\n",
       " 'Hey!',\n",
       " 'Daddy!',\n",
       " 'Daddy!',\n",
       " 'Daddy!',\n",
       " 'building!',\n",
       " 'cliff!',\n",
       " 'Daddy!']"
      ]
     },
     "execution_count": 181,
     "metadata": {},
     "output_type": "execute_result"
    }
   ],
   "source": [
    "f.split()"
   ]
  },
  {
   "cell_type": "code",
   "execution_count": 182,
   "metadata": {},
   "outputs": [
    {
     "data": {
      "text/plain": [
       "2053"
      ]
     },
     "execution_count": 182,
     "metadata": {},
     "output_type": "execute_result"
    }
   ],
   "source": [
    "len(f)"
   ]
  },
  {
   "cell_type": "code",
   "execution_count": null,
   "metadata": {},
   "outputs": [],
   "source": []
  },
  {
   "cell_type": "code",
   "execution_count": null,
   "metadata": {},
   "outputs": [],
   "source": []
  }
 ],
 "metadata": {
  "kernelspec": {
   "display_name": "Python 3",
   "language": "python",
   "name": "python3"
  },
  "language_info": {
   "codemirror_mode": {
    "name": "ipython",
    "version": 3
   },
   "file_extension": ".py",
   "mimetype": "text/x-python",
   "name": "python",
   "nbconvert_exporter": "python",
   "pygments_lexer": "ipython3",
   "version": "3.7.3"
  }
 },
 "nbformat": 4,
 "nbformat_minor": 2
}
