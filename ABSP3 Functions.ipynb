{
 "cells": [
  {
   "cell_type": "code",
   "execution_count": 5,
   "metadata": {},
   "outputs": [],
   "source": [
    "def h(name):\n",
    "    print(\"Hello \" + name)"
   ]
  },
  {
   "cell_type": "code",
   "execution_count": 9,
   "metadata": {},
   "outputs": [
    {
     "name": "stdout",
     "output_type": "stream",
     "text": [
      "Hello Bushi\n"
     ]
    }
   ],
   "source": [
    "h('Bushi')"
   ]
  },
  {
   "cell_type": "code",
   "execution_count": 108,
   "metadata": {},
   "outputs": [
    {
     "name": "stdout",
     "output_type": "stream",
     "text": [
      "It is certain\n"
     ]
    }
   ],
   "source": [
    "import random\n",
    "def getAnswer(number):\n",
    "    if number == 1:\n",
    "        return 'It is certain'\n",
    "    if number == 2:\n",
    "        return 'It is decidedly so'\n",
    "    if number == 3:\n",
    "        return 'Yes'\n",
    "    if number == 4:\n",
    "        return 'Reply hazy, try again'\n",
    "    if number == 5:\n",
    "        return 'Ask agian'\n",
    "    if number == 6:\n",
    "        return 'Concentrate and ask again'\n",
    "    if number == 7:\n",
    "        return 'My reply is no'\n",
    "    if number == 8:\n",
    "        return 'Outlook is not good'\n",
    "    if number == 9:\n",
    "        return 'Very doubtful'\n",
    "\n",
    "# r = random.randint(1,10)\n",
    "# fortune = getAnswer(r)\n",
    "# print(fortune)\n",
    "\n",
    "print(getAnswer(random.randint(1,9))) #randint's range is [a,b] unlike for loop\n"
   ]
  },
  {
   "cell_type": "code",
   "execution_count": 111,
   "metadata": {},
   "outputs": [
    {
     "name": "stdout",
     "output_type": "stream",
     "text": [
      "Hello\n"
     ]
    },
    {
     "data": {
      "text/plain": [
       "True"
      ]
     },
     "execution_count": 111,
     "metadata": {},
     "output_type": "execute_result"
    }
   ],
   "source": [
    "a = print(\"Hello\")\n",
    "a == None"
   ]
  },
  {
   "cell_type": "code",
   "execution_count": 113,
   "metadata": {},
   "outputs": [
    {
     "name": "stdout",
     "output_type": "stream",
     "text": [
      "hello\n",
      "World\n"
     ]
    }
   ],
   "source": [
    "print(\"hello\")\n",
    "print(\"World\")"
   ]
  },
  {
   "cell_type": "code",
   "execution_count": 114,
   "metadata": {},
   "outputs": [
    {
     "name": "stdout",
     "output_type": "stream",
     "text": [
      "helloWorld\n"
     ]
    }
   ],
   "source": [
    "print(\"hello\", end = \"\")\n",
    "print(\"World\")"
   ]
  },
  {
   "cell_type": "code",
   "execution_count": 116,
   "metadata": {},
   "outputs": [
    {
     "name": "stdout",
     "output_type": "stream",
     "text": [
      "cats dogs monkeys\n"
     ]
    }
   ],
   "source": [
    "print(\"cats\" , \"dogs\", \"monkeys\")"
   ]
  },
  {
   "cell_type": "code",
   "execution_count": 118,
   "metadata": {},
   "outputs": [
    {
     "name": "stdout",
     "output_type": "stream",
     "text": [
      "cats, dogs, monkeys\n"
     ]
    }
   ],
   "source": [
    "print(\"cats\" , \"dogs\", \"monkeys\", sep = \", \")"
   ]
  },
  {
   "cell_type": "code",
   "execution_count": 119,
   "metadata": {},
   "outputs": [
    {
     "ename": "NameError",
     "evalue": "name 'eggs' is not defined",
     "output_type": "error",
     "traceback": [
      "\u001b[0;31m---------------------------------------------------------------------------\u001b[0m",
      "\u001b[0;31mNameError\u001b[0m                                 Traceback (most recent call last)",
      "\u001b[0;32m<ipython-input-119-e6f858024440>\u001b[0m in \u001b[0;36m<module>\u001b[0;34m\u001b[0m\n\u001b[1;32m      1\u001b[0m \u001b[0;32mdef\u001b[0m \u001b[0mspam\u001b[0m\u001b[0;34m(\u001b[0m\u001b[0;34m)\u001b[0m\u001b[0;34m:\u001b[0m\u001b[0;34m\u001b[0m\u001b[0;34m\u001b[0m\u001b[0m\n\u001b[1;32m      2\u001b[0m     \u001b[0meggs\u001b[0m \u001b[0;34m=\u001b[0m \u001b[0;36m2\u001b[0m\u001b[0;34m\u001b[0m\u001b[0;34m\u001b[0m\u001b[0m\n\u001b[0;32m----> 3\u001b[0;31m \u001b[0mprint\u001b[0m\u001b[0;34m(\u001b[0m\u001b[0meggs\u001b[0m\u001b[0;34m)\u001b[0m\u001b[0;34m\u001b[0m\u001b[0;34m\u001b[0m\u001b[0m\n\u001b[0m",
      "\u001b[0;31mNameError\u001b[0m: name 'eggs' is not defined"
     ]
    }
   ],
   "source": [
    "def spam():\n",
    "    eggs = 2\n",
    "print(eggs)"
   ]
  },
  {
   "cell_type": "code",
   "execution_count": 120,
   "metadata": {},
   "outputs": [
    {
     "name": "stdout",
     "output_type": "stream",
     "text": [
      "99\n"
     ]
    }
   ],
   "source": [
    "def spam():\n",
    "    eggs = 99\n",
    "    bacon()\n",
    "    print(eggs)\n",
    "    \n",
    "def bacon():\n",
    "    ham = 101\n",
    "    eggs = 0\n",
    "    \n",
    "spam()"
   ]
  },
  {
   "cell_type": "code",
   "execution_count": 122,
   "metadata": {},
   "outputs": [
    {
     "name": "stdout",
     "output_type": "stream",
     "text": [
      "42\n"
     ]
    }
   ],
   "source": [
    "def spam():\n",
    "    print(eggs)\n",
    "eggs = 42\n",
    "\n",
    "spam()"
   ]
  },
  {
   "cell_type": "code",
   "execution_count": 126,
   "metadata": {},
   "outputs": [
    {
     "name": "stdout",
     "output_type": "stream",
     "text": [
      "bacon local\n",
      "spam local\n",
      "bacon local\n",
      "global\n"
     ]
    }
   ],
   "source": [
    "def spam():\n",
    "    eggs = 'spam local'\n",
    "    print(eggs)\n",
    "\n",
    "def bacon():\n",
    "    eggs = 'bacon local'\n",
    "    print(eggs)\n",
    "    spam()\n",
    "    print(eggs)\n",
    "    \n",
    "    \n",
    "eggs = 'global'\n",
    "bacon()\n",
    "print(eggs)"
   ]
  },
  {
   "cell_type": "code",
   "execution_count": 131,
   "metadata": {},
   "outputs": [
    {
     "name": "stdout",
     "output_type": "stream",
     "text": [
      "global\n",
      "spam\n"
     ]
    }
   ],
   "source": [
    "#global statement\n",
    "def spam():\n",
    "    global eggs \n",
    "    eggs = 'spam'\n",
    "    \n",
    "eggs =  'global'\n",
    "print(eggs)\n",
    "spam()\n",
    "print(eggs)\n"
   ]
  },
  {
   "cell_type": "code",
   "execution_count": 136,
   "metadata": {},
   "outputs": [
    {
     "name": "stdout",
     "output_type": "stream",
     "text": [
      "42\n",
      "spam\n"
     ]
    }
   ],
   "source": [
    "def spam():\n",
    "    global eggs\n",
    "    eggs = 'spam' #global variable\n",
    "    \n",
    "def bacon():\n",
    "    eggs = 'bacon' #local variable\n",
    "    \n",
    "def ham():\n",
    "    print(eggs) #global variable because we aren't assigning it any value\n",
    "\n",
    "eggs = 42 #global\n",
    "ham()\n",
    "spam()\n",
    "ham()\n"
   ]
  },
  {
   "cell_type": "code",
   "execution_count": 140,
   "metadata": {},
   "outputs": [
    {
     "ename": "UnboundLocalError",
     "evalue": "local variable 'eggs' referenced before assignment",
     "output_type": "error",
     "traceback": [
      "\u001b[0;31m---------------------------------------------------------------------------\u001b[0m",
      "\u001b[0;31mUnboundLocalError\u001b[0m                         Traceback (most recent call last)",
      "\u001b[0;32m<ipython-input-140-851d5ca286a3>\u001b[0m in \u001b[0;36m<module>\u001b[0;34m\u001b[0m\n\u001b[1;32m      4\u001b[0m \u001b[0;34m\u001b[0m\u001b[0m\n\u001b[1;32m      5\u001b[0m \u001b[0meggs\u001b[0m \u001b[0;34m=\u001b[0m \u001b[0;34m'global var'\u001b[0m\u001b[0;34m\u001b[0m\u001b[0;34m\u001b[0m\u001b[0m\n\u001b[0;32m----> 6\u001b[0;31m \u001b[0mspam\u001b[0m\u001b[0;34m(\u001b[0m\u001b[0;34m)\u001b[0m\u001b[0;34m\u001b[0m\u001b[0;34m\u001b[0m\u001b[0m\n\u001b[0m",
      "\u001b[0;32m<ipython-input-140-851d5ca286a3>\u001b[0m in \u001b[0;36mspam\u001b[0;34m()\u001b[0m\n\u001b[1;32m      1\u001b[0m \u001b[0;32mdef\u001b[0m \u001b[0mspam\u001b[0m\u001b[0;34m(\u001b[0m\u001b[0;34m)\u001b[0m\u001b[0;34m:\u001b[0m\u001b[0;34m\u001b[0m\u001b[0;34m\u001b[0m\u001b[0m\n\u001b[0;32m----> 2\u001b[0;31m     \u001b[0mprint\u001b[0m\u001b[0;34m(\u001b[0m\u001b[0meggs\u001b[0m\u001b[0;34m)\u001b[0m\u001b[0;34m\u001b[0m\u001b[0;34m\u001b[0m\u001b[0m\n\u001b[0m\u001b[1;32m      3\u001b[0m     \u001b[0meggs\u001b[0m \u001b[0;34m=\u001b[0m \u001b[0;34m'local var'\u001b[0m\u001b[0;34m\u001b[0m\u001b[0;34m\u001b[0m\u001b[0m\n\u001b[1;32m      4\u001b[0m \u001b[0;34m\u001b[0m\u001b[0m\n\u001b[1;32m      5\u001b[0m \u001b[0meggs\u001b[0m \u001b[0;34m=\u001b[0m \u001b[0;34m'global var'\u001b[0m\u001b[0;34m\u001b[0m\u001b[0;34m\u001b[0m\u001b[0m\n",
      "\u001b[0;31mUnboundLocalError\u001b[0m: local variable 'eggs' referenced before assignment"
     ]
    }
   ],
   "source": [
    "def spam():\n",
    "    print(eggs)\n",
    "    eggs = 'local var'\n",
    "    \n",
    "eggs = 'global var'\n",
    "spam()\n",
    "# This error happens because Python sees that there is an assignment\n",
    "# statement for eggs in the spam() function u and therefore considers eggs to\n",
    "# be local. But because print(eggs) is executed before eggs is assigned any-\n",
    "# thing, the local variable eggs doesn’t exist. Python will not fall back to using\n",
    "# the global eggs variable."
   ]
  },
  {
   "cell_type": "code",
   "execution_count": 142,
   "metadata": {},
   "outputs": [
    {
     "name": "stdout",
     "output_type": "stream",
     "text": [
      "21.0\n",
      "14.0\n"
     ]
    },
    {
     "ename": "ZeroDivisionError",
     "evalue": "division by zero",
     "output_type": "error",
     "traceback": [
      "\u001b[0;31m---------------------------------------------------------------------------\u001b[0m",
      "\u001b[0;31mZeroDivisionError\u001b[0m                         Traceback (most recent call last)",
      "\u001b[0;32m<ipython-input-142-4b98a4787edb>\u001b[0m in \u001b[0;36m<module>\u001b[0;34m\u001b[0m\n\u001b[1;32m      3\u001b[0m \u001b[0mprint\u001b[0m\u001b[0;34m(\u001b[0m\u001b[0mspam\u001b[0m\u001b[0;34m(\u001b[0m\u001b[0;36m2\u001b[0m\u001b[0;34m)\u001b[0m\u001b[0;34m)\u001b[0m\u001b[0;34m\u001b[0m\u001b[0;34m\u001b[0m\u001b[0m\n\u001b[1;32m      4\u001b[0m \u001b[0mprint\u001b[0m\u001b[0;34m(\u001b[0m\u001b[0mspam\u001b[0m\u001b[0;34m(\u001b[0m\u001b[0;36m3\u001b[0m\u001b[0;34m)\u001b[0m\u001b[0;34m)\u001b[0m\u001b[0;34m\u001b[0m\u001b[0;34m\u001b[0m\u001b[0m\n\u001b[0;32m----> 5\u001b[0;31m \u001b[0mprint\u001b[0m\u001b[0;34m(\u001b[0m\u001b[0mspam\u001b[0m\u001b[0;34m(\u001b[0m\u001b[0;36m0\u001b[0m\u001b[0;34m)\u001b[0m\u001b[0;34m)\u001b[0m\u001b[0;34m\u001b[0m\u001b[0;34m\u001b[0m\u001b[0m\n\u001b[0m\u001b[1;32m      6\u001b[0m \u001b[0mprint\u001b[0m\u001b[0;34m(\u001b[0m\u001b[0mspam\u001b[0m\u001b[0;34m(\u001b[0m\u001b[0;36m6\u001b[0m\u001b[0;34m)\u001b[0m\u001b[0;34m)\u001b[0m\u001b[0;34m\u001b[0m\u001b[0;34m\u001b[0m\u001b[0m\n\u001b[1;32m      7\u001b[0m \u001b[0mprint\u001b[0m\u001b[0;34m(\u001b[0m\u001b[0mspam\u001b[0m\u001b[0;34m(\u001b[0m\u001b[0;36m7\u001b[0m\u001b[0;34m)\u001b[0m\u001b[0;34m)\u001b[0m\u001b[0;34m\u001b[0m\u001b[0;34m\u001b[0m\u001b[0m\n",
      "\u001b[0;32m<ipython-input-142-4b98a4787edb>\u001b[0m in \u001b[0;36mspam\u001b[0;34m(divideby)\u001b[0m\n\u001b[1;32m      1\u001b[0m \u001b[0;32mdef\u001b[0m \u001b[0mspam\u001b[0m\u001b[0;34m(\u001b[0m\u001b[0mdivideby\u001b[0m\u001b[0;34m)\u001b[0m\u001b[0;34m:\u001b[0m\u001b[0;34m\u001b[0m\u001b[0;34m\u001b[0m\u001b[0m\n\u001b[0;32m----> 2\u001b[0;31m     \u001b[0;32mreturn\u001b[0m \u001b[0;36m42\u001b[0m \u001b[0;34m/\u001b[0m \u001b[0mdivideby\u001b[0m\u001b[0;34m\u001b[0m\u001b[0;34m\u001b[0m\u001b[0m\n\u001b[0m\u001b[1;32m      3\u001b[0m \u001b[0mprint\u001b[0m\u001b[0;34m(\u001b[0m\u001b[0mspam\u001b[0m\u001b[0;34m(\u001b[0m\u001b[0;36m2\u001b[0m\u001b[0;34m)\u001b[0m\u001b[0;34m)\u001b[0m\u001b[0;34m\u001b[0m\u001b[0;34m\u001b[0m\u001b[0m\n\u001b[1;32m      4\u001b[0m \u001b[0mprint\u001b[0m\u001b[0;34m(\u001b[0m\u001b[0mspam\u001b[0m\u001b[0;34m(\u001b[0m\u001b[0;36m3\u001b[0m\u001b[0;34m)\u001b[0m\u001b[0;34m)\u001b[0m\u001b[0;34m\u001b[0m\u001b[0;34m\u001b[0m\u001b[0m\n\u001b[1;32m      5\u001b[0m \u001b[0mprint\u001b[0m\u001b[0;34m(\u001b[0m\u001b[0mspam\u001b[0m\u001b[0;34m(\u001b[0m\u001b[0;36m0\u001b[0m\u001b[0;34m)\u001b[0m\u001b[0;34m)\u001b[0m\u001b[0;34m\u001b[0m\u001b[0;34m\u001b[0m\u001b[0m\n",
      "\u001b[0;31mZeroDivisionError\u001b[0m: division by zero"
     ]
    }
   ],
   "source": [
    "def spam(divideby):\n",
    "    return 42 / divideby\n",
    "print(spam(2))\n",
    "print(spam(3))\n",
    "print(spam(0))\n",
    "print(spam(6))\n",
    "print(spam(7))"
   ]
  },
  {
   "cell_type": "code",
   "execution_count": 150,
   "metadata": {},
   "outputs": [
    {
     "name": "stdout",
     "output_type": "stream",
     "text": [
      "21.0\n",
      "14.0\n",
      "Invalid\n",
      "None\n",
      "7.0\n",
      "6.0\n"
     ]
    }
   ],
   "source": [
    "def spam(divideby):\n",
    "    try:\n",
    "        return 42 / divideby\n",
    "    except ZeroDivisionError:\n",
    "        print(\"Invalid\")\n",
    "print(spam(2))\n",
    "print(spam(3))\n",
    "print(spam(0))\n",
    "print(spam(6))\n",
    "print(spam(7))"
   ]
  },
  {
   "cell_type": "code",
   "execution_count": 153,
   "metadata": {},
   "outputs": [
    {
     "name": "stdout",
     "output_type": "stream",
     "text": [
      "21.0\n",
      "14.0\n",
      "Invalid\n"
     ]
    }
   ],
   "source": [
    "def spam(divideby):\n",
    "    return 42 / divideby\n",
    "\n",
    "try:\n",
    "    print(spam(2))\n",
    "    print(spam(3))\n",
    "    print(spam(0))\n",
    "    print(spam(6))\n",
    "    print(spam(7))\n",
    "    \n",
    "except ZeroDivisionError:\n",
    "    print(\"Invalid\")"
   ]
  },
  {
   "cell_type": "code",
   "execution_count": 160,
   "metadata": {},
   "outputs": [
    {
     "name": "stdout",
     "output_type": "stream",
     "text": [
      "Whats your name?\n",
      "Bushi\n",
      "Hello Bushi, welcome to guess the number game\n",
      "Rules: You get 5 guesses to guess the number. Its any number from 0 to 10\n",
      "Guess the number\n",
      "4\n",
      "Guess lower\n",
      "8\n",
      "Guess lower\n",
      "2\n",
      "Guess lower\n",
      "1\n",
      "Guess lower\n",
      "0\n",
      "Conrats. You've won. You have guessed it in 5 tries\n",
      "Nope. The secret number was 0\n"
     ]
    }
   ],
   "source": [
    "print(\"Whats your name?\")\n",
    "name = input()\n",
    "print(\"Hello \" + name + \", welcome to guess the number game\")\n",
    "print(\"Rules: You get 5 guesses to guess the number. Its any number from 0 to 10\")\n",
    "mynum = random.randint(0,10)\n",
    "\n",
    "print(\"Guess the number\")\n",
    "\n",
    "for i in range(5):\n",
    "    g = int(input())\n",
    "    if (g == mynum):\n",
    "        print(\"Conrats. You've won. You have guessed it in \" + str(i+1) + \" tries\")\n",
    "        break\n",
    "    elif (g < mynum):\n",
    "        print(\"Guess higher\")\n",
    "        #continue\n",
    "    elif (g > mynum):\n",
    "        print(\"Guess lower\")\n",
    "        #continue\n",
    "print(\"Nope. The secret number was \" + str(mynum))\n",
    "        \n",
    "        "
   ]
  },
  {
   "cell_type": "code",
   "execution_count": 169,
   "metadata": {},
   "outputs": [
    {
     "data": {
      "text/plain": [
       "10"
      ]
     },
     "execution_count": 169,
     "metadata": {},
     "output_type": "execute_result"
    }
   ],
   "source": [
    "a = 3 \n",
    "b = 32\n",
    "b // a"
   ]
  },
  {
   "cell_type": "code",
   "execution_count": 194,
   "metadata": {},
   "outputs": [
    {
     "name": "stdout",
     "output_type": "stream",
     "text": [
      "9999999967\n",
      "29999999902\n",
      "14999999951\n",
      "44999999854\n",
      "22499999927\n",
      "67499999782\n",
      "33749999891\n",
      "101249999674\n",
      "50624999837\n",
      "151874999512\n",
      "75937499756\n",
      "37968749878\n",
      "18984374939\n",
      "56953124818\n",
      "28476562409\n",
      "85429687228\n",
      "42714843614\n",
      "21357421807\n",
      "64072265422\n",
      "32036132711\n",
      "96108398134\n",
      "48054199067\n",
      "144162597202\n",
      "72081298601\n",
      "216243895804\n",
      "108121947902\n",
      "54060973951\n",
      "162182921854\n",
      "81091460927\n",
      "243274382782\n",
      "121637191391\n",
      "364911574174\n",
      "182455787087\n",
      "547367361262\n",
      "273683680631\n",
      "821051041894\n",
      "410525520947\n",
      "1231576562842\n",
      "615788281421\n",
      "1847364844264\n",
      "923682422132\n",
      "461841211066\n",
      "230920605533\n",
      "692761816600\n",
      "346380908300\n",
      "173190454150\n",
      "86595227075\n",
      "259785681226\n",
      "129892840613\n",
      "389678521840\n",
      "194839260920\n",
      "97419630460\n",
      "48709815230\n",
      "24354907615\n",
      "73064722846\n",
      "36532361423\n",
      "109597084270\n",
      "54798542135\n",
      "164395626406\n",
      "82197813203\n",
      "246593439610\n",
      "123296719805\n",
      "369890159416\n",
      "184945079708\n",
      "92472539854\n",
      "46236269927\n",
      "138708809782\n",
      "69354404891\n",
      "208063214674\n",
      "104031607337\n",
      "312094822012\n",
      "156047411006\n",
      "78023705503\n",
      "234071116510\n",
      "117035558255\n",
      "351106674766\n",
      "175553337383\n",
      "526660012150\n",
      "263330006075\n",
      "789990018226\n",
      "394995009113\n",
      "1184985027340\n",
      "592492513670\n",
      "296246256835\n",
      "888738770506\n",
      "444369385253\n",
      "1333108155760\n",
      "666554077880\n",
      "333277038940\n",
      "166638519470\n",
      "83319259735\n",
      "249957779206\n",
      "124978889603\n",
      "374936668810\n",
      "187468334405\n",
      "562405003216\n",
      "281202501608\n",
      "140601250804\n",
      "70300625402\n",
      "35150312701\n",
      "105450938104\n",
      "52725469052\n",
      "26362734526\n",
      "13181367263\n",
      "39544101790\n",
      "19772050895\n",
      "59316152686\n",
      "29658076343\n",
      "88974229030\n",
      "44487114515\n",
      "133461343546\n",
      "66730671773\n",
      "200192015320\n",
      "100096007660\n",
      "50048003830\n",
      "25024001915\n",
      "75072005746\n",
      "37536002873\n",
      "112608008620\n",
      "56304004310\n",
      "28152002155\n",
      "84456006466\n",
      "42228003233\n",
      "126684009700\n",
      "63342004850\n",
      "31671002425\n",
      "95013007276\n",
      "47506503638\n",
      "23753251819\n",
      "71259755458\n",
      "35629877729\n",
      "106889633188\n",
      "53444816594\n",
      "26722408297\n",
      "80167224892\n",
      "40083612446\n",
      "20041806223\n",
      "60125418670\n",
      "30062709335\n",
      "90188128006\n",
      "45094064003\n",
      "135282192010\n",
      "67641096005\n",
      "202923288016\n",
      "101461644008\n",
      "50730822004\n",
      "25365411002\n",
      "12682705501\n",
      "38048116504\n",
      "19024058252\n",
      "9512029126\n",
      "4756014563\n",
      "14268043690\n",
      "7134021845\n",
      "21402065536\n",
      "10701032768\n",
      "5350516384\n",
      "2675258192\n",
      "1337629096\n",
      "668814548\n",
      "334407274\n",
      "167203637\n",
      "501610912\n",
      "250805456\n",
      "125402728\n",
      "62701364\n",
      "31350682\n",
      "15675341\n",
      "47026024\n",
      "23513012\n",
      "11756506\n",
      "5878253\n",
      "17634760\n",
      "8817380\n",
      "4408690\n",
      "2204345\n",
      "6613036\n",
      "3306518\n",
      "1653259\n",
      "4959778\n",
      "2479889\n",
      "7439668\n",
      "3719834\n",
      "1859917\n",
      "5579752\n",
      "2789876\n",
      "1394938\n",
      "697469\n",
      "2092408\n",
      "1046204\n",
      "523102\n",
      "261551\n",
      "784654\n",
      "392327\n",
      "1176982\n",
      "588491\n",
      "1765474\n",
      "882737\n",
      "2648212\n",
      "1324106\n",
      "662053\n",
      "1986160\n",
      "993080\n",
      "496540\n",
      "248270\n",
      "124135\n",
      "372406\n",
      "186203\n",
      "558610\n",
      "279305\n",
      "837916\n",
      "418958\n",
      "209479\n",
      "628438\n",
      "314219\n",
      "942658\n",
      "471329\n",
      "1413988\n",
      "706994\n",
      "353497\n",
      "1060492\n",
      "530246\n",
      "265123\n",
      "795370\n",
      "397685\n",
      "1193056\n",
      "596528\n",
      "298264\n",
      "149132\n",
      "74566\n",
      "37283\n",
      "111850\n",
      "55925\n",
      "167776\n",
      "83888\n",
      "41944\n",
      "20972\n",
      "10486\n",
      "5243\n",
      "15730\n",
      "7865\n",
      "23596\n",
      "11798\n",
      "5899\n",
      "17698\n",
      "8849\n",
      "26548\n",
      "13274\n",
      "6637\n",
      "19912\n",
      "9956\n",
      "4978\n",
      "2489\n",
      "7468\n",
      "3734\n",
      "1867\n",
      "5602\n",
      "2801\n",
      "8404\n",
      "4202\n",
      "2101\n",
      "6304\n",
      "3152\n",
      "1576\n",
      "788\n",
      "394\n",
      "197\n",
      "592\n",
      "296\n",
      "148\n",
      "74\n",
      "37\n",
      "112\n",
      "56\n",
      "28\n",
      "14\n",
      "7\n",
      "22\n",
      "11\n",
      "34\n",
      "17\n",
      "52\n",
      "26\n",
      "13\n",
      "40\n",
      "20\n",
      "10\n",
      "5\n",
      "16\n",
      "8\n",
      "4\n",
      "2\n"
     ]
    },
    {
     "data": {
      "text/plain": [
       "1"
      ]
     },
     "execution_count": 194,
     "metadata": {},
     "output_type": "execute_result"
    }
   ],
   "source": [
    "def collatz(n):\n",
    "    if n != 1:\n",
    "\n",
    "        if n % 2 == 0:\n",
    "            print(n)\n",
    "            return collatz(n // 2)\n",
    "\n",
    "        else:\n",
    "            print(n)\n",
    "            return collatz(3 * n + 1)\n",
    "    else:\n",
    "        return 1\n",
    "\n",
    "collatz(9999999967)\n"
   ]
  },
  {
   "cell_type": "code",
   "execution_count": null,
   "metadata": {},
   "outputs": [],
   "source": []
  },
  {
   "cell_type": "code",
   "execution_count": null,
   "metadata": {},
   "outputs": [],
   "source": []
  }
 ],
 "metadata": {
  "kernelspec": {
   "display_name": "Python 3",
   "language": "python",
   "name": "python3"
  },
  "language_info": {
   "codemirror_mode": {
    "name": "ipython",
    "version": 3
   },
   "file_extension": ".py",
   "mimetype": "text/x-python",
   "name": "python",
   "nbconvert_exporter": "python",
   "pygments_lexer": "ipython3",
   "version": "3.7.3"
  }
 },
 "nbformat": 4,
 "nbformat_minor": 2
}
